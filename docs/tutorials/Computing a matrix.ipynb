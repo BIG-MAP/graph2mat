{
 "cells": [
  {
   "cell_type": "markdown",
   "id": "fec156d6-650e-41e1-823a-e24478c481d9",
   "metadata": {},
   "source": [
    "# Computing a matrix\n",
    "\n",
    "\n",
    "In this notebook we guide you through your first steps on using `e3nn_matrix` to compute a spherical harmonic matrix. \n",
    "\n",
    "Our goal will be to **compute a matrix from the coordinates of some points in space**.\n",
    "\n",
    "We will have to follow the next steps:\n",
    "\n",
    "1. **Create a function** to compute the matrix.\n",
    "2. **Get the coordinates** of the system .\n",
    "3. **Preprocess** the system's data to make it usable by the function.\n",
    "4. **Generate some input** for the function.\n",
    "5. **Call the function**.\n",
    "6. **Postprocess** the output to get the matrix."
   ]
  },
  {
   "cell_type": "code",
   "execution_count": null,
   "id": "79837110-f750-475a-9179-5bec8caff244",
   "metadata": {},
   "outputs": [],
   "source": [
    "import numpy as np\n",
    "\n",
    "from e3nn import o3\n",
    "\n",
    "from e3nn_matrix.data import (\n",
    "    PointBasis,\n",
    "    BasisTableWithEdges,\n",
    "    BasisConfiguration,\n",
    "    MatrixDataProcessor,\n",
    ")\n",
    "from e3nn_matrix.torch import BasisMatrixTorchData, BasisMatrixReadout"
   ]
  },
  {
   "cell_type": "markdown",
   "id": "fc1a578c-7a91-4656-9a0b-5dcf7c62820e",
   "metadata": {},
   "source": [
    "Create a function to generate matrices\n",
    "-----\n",
    "\n",
    "In this section, we focus on what you need to create a function to compute spherical harmonics matrices."
   ]
  },
  {
   "cell_type": "markdown",
   "id": "5feae420-bba5-4982-a87e-934820d2e118",
   "metadata": {},
   "source": [
    "There are three things that you need to know about your problem:\n",
    "\n",
    "1. **The basis functions**. Each point will have a set of basis functions, based on *spherical harmonics*. Most likely, you will have points of different types, and each type will have a given set of basis functions. In any case, **you must know beforehand all the unique basis sets** that you will use in your problem.\n",
    "2. **The shape of the inputs**. What are the inputs from which you will compute the matrix? Are they scalars, are they vectors, higher order spherical harmonics...? How many of them will you have? This information is all condensed into an irreps specification that you will pass to the function creation.\n",
    "3. **The symmetries of your output matrix**. Is it symmetric? Is each *point-point* block symmetric?"
   ]
  },
  {
   "cell_type": "markdown",
   "id": "034d3cdb-eaad-4299-9fca-201ab17a545e",
   "metadata": {},
   "source": [
    "#### Define your basis\n",
    "\n",
    "The first thing to do is to understand which basis functions will you face in your problem."
   ]
  },
  {
   "cell_type": "markdown",
   "id": "7c4cade6-5886-4ffc-9d96-49857dfab599",
   "metadata": {},
   "source": [
    "Let's say that we know that all the systems that we will deal with have two different types of points:\n",
    "\n",
    "- **A**, which has only an $l=0$ basis function with a range of `2`.\n",
    "- **B**, which has two $l=0$ basis function and a set of $l=1$ basis functions with a range of `5`.\n",
    "\n",
    "We need to create a ``PointBasis`` for each of the types:"
   ]
  },
  {
   "cell_type": "code",
   "execution_count": null,
   "id": "95487708-91a8-4166-8954-7145f576065a",
   "metadata": {},
   "outputs": [],
   "source": [
    "point_1 = PointBasis(\"A\", \"spherical\", o3.Irreps(\"0e\"), R=2)\n",
    "point_2 = PointBasis(\"B\", \"spherical\", o3.Irreps(\"2x0e + 1o\"), R=5)\n",
    "\n",
    "basis = [point_1, point_2]"
   ]
  },
  {
   "cell_type": "markdown",
   "id": "ff6c1083-0ddb-41d1-aa10-80fb5b93f550",
   "metadata": {},
   "source": [
    "#### Define the shape of the inputs"
   ]
  },
  {
   "cell_type": "markdown",
   "id": "669cc4f5-ea73-4c57-aafd-014172cfb03a",
   "metadata": {},
   "source": [
    "The function expects an **point-wise input**. That is, one input for each point. \n",
    "\n",
    "You then need to specify what will be the shape of this input. You must ask yourself two questions:\n",
    "\n",
    "- What kind of inputs will you receive? Scalars, vectors, higher order spherical harmonics...?\n",
    "- How many of them will you receive?\n",
    "\n",
    "In this example, we are going to keep it simple and say that **for each node we will pass one scalar and one vector**. We just need to define an `e3nn` `Irreps` object with the appropiate *irreps*."
   ]
  },
  {
   "cell_type": "code",
   "execution_count": null,
   "id": "5f44a2dc-36f8-46a2-a6fd-289dd8739733",
   "metadata": {},
   "outputs": [],
   "source": [
    "input_irreps = o3.Irreps(\"0e + 1o\")"
   ]
  },
  {
   "cell_type": "markdown",
   "id": "73b8e747-e53d-458e-b196-15722233e99d",
   "metadata": {},
   "source": [
    "#### Initialize the module"
   ]
  },
  {
   "cell_type": "markdown",
   "id": "96c4aa8b-5311-4b83-8a66-7a005be5f17f",
   "metadata": {},
   "source": [
    "Armed with all the information about our inputs and outputs, we can finally **create our matrix generating function**.\n",
    "\n",
    "The most basic matrix generating function is `BasisMatrixReadout`. For the simplest usage, we just need to pass:\n",
    "\n",
    "- `unique_basis`: The list of `PointBasis` that the function should be able to deal with.\n",
    "- `irreps_in`: The irreps of the input that we will pass to it.\n",
    "- `symmetric`: Whether our target matrices are symmetric."
   ]
  },
  {
   "cell_type": "code",
   "execution_count": null,
   "id": "d6dc285e-d5f0-43ea-b23f-7f54d0b47a8c",
   "metadata": {},
   "outputs": [],
   "source": [
    "readout = BasisMatrixReadout(\n",
    "    unique_basis=basis,\n",
    "    irreps_in=input_irreps,\n",
    "    symmetric=True,\n",
    ")"
   ]
  },
  {
   "cell_type": "markdown",
   "id": "013ffc03-73b2-49a4-a59e-604cab236075",
   "metadata": {},
   "source": [
    "Now we can explore it. Let's use its `summary` property:"
   ]
  },
  {
   "cell_type": "code",
   "execution_count": null,
   "id": "c4fd37d6-ecd3-447d-9f7d-6571b1e42a88",
   "metadata": {},
   "outputs": [],
   "source": [
    "print(readout.summary)"
   ]
  },
  {
   "cell_type": "markdown",
   "id": "22175734-7b93-4de9-947e-eb784c215b4f",
   "metadata": {},
   "source": [
    "You can see that the module created 5 different operations:\n",
    "\n",
    "- **Two node operations**: They will compute the blocks corresponding to interactions within the same point.\n",
    "- **Three edge operations**: They will compute the blocks corresponding to interactions between different points.\n",
    "\n",
    "Note that the summary also prints the irreps of each point basis involved and the output needed to generate the corresponding block. \n",
    "\n",
    "It also indicates with `[XY = YX.T]` if the operation returns the transpose block when you commute factors.\n",
    "\n",
    "However, this short summary doesn't tell us exactly what operations are performed. Since `BasisMatrixReadout` is a `torch` module, its representation will show us what is exactly the anatomy of the operation:"
   ]
  },
  {
   "cell_type": "code",
   "execution_count": null,
   "id": "db5a0641-a3f4-455e-8c43-06c927bcd376",
   "metadata": {},
   "outputs": [],
   "source": [
    "readout"
   ]
  },
  {
   "cell_type": "markdown",
   "id": "37097241-45f1-44ef-8c10-afb2095c6229",
   "metadata": {},
   "source": [
    "Try to relate this representation with the summary and identify the role of each input in it. For example, where is `irreps_in` in this representation?\n",
    "\n",
    "We encourage you to **play with the three arguments** and see if they have the influence that you expected on the summary and the architecture of the function."
   ]
  },
  {
   "cell_type": "markdown",
   "id": "a71013f6-1d14-437c-acf2-1fe80292acaa",
   "metadata": {},
   "source": [
    "We have our model, now we are only missing the data!"
   ]
  },
  {
   "cell_type": "markdown",
   "id": "8c35007a-0c46-4373-bd35-fae3489b7d7b",
   "metadata": {},
   "source": [
    "Coordinates of a system\n",
    "--------------------------"
   ]
  },
  {
   "cell_type": "markdown",
   "id": "df526f0d-a9b8-4886-8266-7a3b0478786a",
   "metadata": {},
   "source": [
    "Let's say we have to predict a matrix for three interacting points in space: two **A** points at `[0,0,0]` and `[6, 0, 0]` and a **B** point at `[11, 0, 0]`. \n",
    "\n",
    "Something like: (A)---(B)--(A).\n",
    "\n",
    "First, we create the positions array:"
   ]
  },
  {
   "cell_type": "code",
   "execution_count": null,
   "id": "e625cfe9-6bc6-48e1-8cec-6fbd4c8ef901",
   "metadata": {},
   "outputs": [],
   "source": [
    "positions = np.array([[0, 0, 0], [6.0, 0, 0], [12.0, 0, 0]])"
   ]
  },
  {
   "cell_type": "markdown",
   "id": "89b0b0f9-501b-4e6c-a523-6896289153f9",
   "metadata": {},
   "source": [
    "And from it, we will create a `BasisConfiguration`, which apart from **positions** contains information about the **basis**, the **cell** and the **boundaries**."
   ]
  },
  {
   "cell_type": "code",
   "execution_count": null,
   "id": "d23242b7-25b6-4bdf-bbd5-7961576b6f10",
   "metadata": {},
   "outputs": [],
   "source": [
    "config = BasisConfiguration(\n",
    "    point_types=[\"A\", \"B\", \"A\"],\n",
    "    positions=positions,\n",
    "    basis=basis,\n",
    "    cell=np.eye(3) * 100,\n",
    "    pbc=(False, False, False),\n",
    ")"
   ]
  },
  {
   "cell_type": "markdown",
   "id": "f41fc346-1869-43b7-a39c-fcad6ace0cad",
   "metadata": {},
   "source": [
    "<div class=\"alert alert-info\">\n",
    "\n",
    "Note\n",
    "\n",
    "The configuration could also store an associated matrix (e.g. the target matrix), however we are not going to use it for now.\n",
    "\n",
    "</div>\n",
    "\n",
    "Let's see **what this configuration looks like**. We can convert it to a `sisl` geometry and plot it (or you could also plot the points yourself):"
   ]
  },
  {
   "cell_type": "code",
   "execution_count": null,
   "id": "a2b193f4-040a-4c84-8a75-350b88a4378e",
   "metadata": {},
   "outputs": [],
   "source": [
    "geometry = config.to_sisl_geometry()\n",
    "geometry.plot(show_cell=False, atoms_style={\"size\": geometry.maxR(all=True)})"
   ]
  },
  {
   "cell_type": "markdown",
   "id": "030f0b7c-4011-4c67-8932-6cd00f20c4c1",
   "metadata": {},
   "source": [
    "In **<span style=\"color:gray\"> gray you can see B atoms </span>** and in **<span style=\"color:pink\"> pink you can see the A atom </span>**. Their **sizes are set according to their ranges**, so you can see which point overlaps with which. This will become important when we interpret the matrix!"
   ]
  },
  {
   "cell_type": "markdown",
   "id": "1c733703-8fc4-497f-b861-601b188e0890",
   "metadata": {},
   "source": [
    "Preprocessing the data\n",
    "-------------------\n",
    "\n",
    "Now, we need to preprocess the data to make it digestible by the matrix readout module. \n",
    "\n",
    "For that, we initialize a `MatrixDataProcessor` that will take care of everything. It needs:\n",
    "\n",
    "- A **basis table** (`BasisTableWithEdges`), which determines all the node and edge types that are possible to find given our basis. It also knows the size of the blocks, and other type dependent variables.\n",
    "- Some **information about the matrix**, which will be used to appropiately pre and postprocess matrices.\n",
    "\n",
    "First let's create the basis table and check that it contains all the information about the basis:"
   ]
  },
  {
   "cell_type": "code",
   "execution_count": null,
   "id": "334346b0-201d-4796-86a7-f8cb43e2e9f0",
   "metadata": {},
   "outputs": [],
   "source": [
    "# Create the basis table.\n",
    "table = BasisTableWithEdges(basis)\n",
    "\n",
    "table"
   ]
  },
  {
   "cell_type": "markdown",
   "id": "41c030ce-545b-4277-aebd-6e145b65cb99",
   "metadata": {},
   "source": [
    "Then we can create the processor:"
   ]
  },
  {
   "cell_type": "code",
   "execution_count": null,
   "id": "1131f000-a654-4649-9780-f7d3edbb865b",
   "metadata": {},
   "outputs": [],
   "source": [
    "# Initialize the processor.\n",
    "processor = MatrixDataProcessor(\n",
    "    basis_table=table, symmetric_matrix=True, sub_point_matrix=False\n",
    ")"
   ]
  },
  {
   "cell_type": "markdown",
   "id": "f4a36e98-77f0-4c34-a52a-ed9cbea827d9",
   "metadata": {},
   "source": [
    "Armed with a processor and the data we need to process, we can already initialize a `BasisMatrixTorchData` object, which will parse and **store all the data already in the shape that the torch module expects it**."
   ]
  },
  {
   "cell_type": "code",
   "execution_count": null,
   "id": "49ab30f7-ec58-4527-a202-9c2534cb2eab",
   "metadata": {},
   "outputs": [],
   "source": [
    "data = BasisMatrixTorchData.from_config(config, processor)\n",
    "data"
   ]
  },
  {
   "cell_type": "markdown",
   "id": "4b0e5c64-7a23-4a75-bd5c-9ec0392d635e",
   "metadata": {},
   "source": [
    "This `BasisMatrixTorchData` is just an extension of `torch_geometric`'s `Data`.\n",
    "\n",
    "<div class=\"alert alert-info\">\n",
    "\n",
    "Note\n",
    "\n",
    "We can batch several configurations, but in this notebook our objective is simply to compute a matrix for one configuration.\n",
    "\n",
    "</div>"
   ]
  },
  {
   "cell_type": "markdown",
   "id": "e3b50a65-cac6-4741-8004-cff41dd0a141",
   "metadata": {},
   "source": [
    "Executing the module\n",
    "-------------------"
   ]
  },
  {
   "cell_type": "markdown",
   "id": "68860c49-f342-4d76-b12d-3bcb5befb799",
   "metadata": {},
   "source": [
    "The information of the system is now prepared to be passed to the function!\n",
    "\n",
    "We are only **missing a very important thing, the input!**\n",
    "\n",
    "Remember that we specified the input of our function to be of shape `o3.Irreps(0e + 1o)`. Therefore, we need an **input** that is **one scalar and one vector for each node**.\n",
    "\n",
    "This could be anything really. To keep it simple, we will ask the `Irreps` object to generate a random array with this shape, and this will be our input. We also ensure that **both `A` points have equivariant inputs**. Since the structure is completely symmetric, this makes sense, right? \n",
    "\n",
    "If it doesn't, give yourself some time to think about it while looking at the structure and the values of the input array. Keep in mind that the input received should be a faithful representation of the point distribution."
   ]
  },
  {
   "cell_type": "code",
   "execution_count": null,
   "id": "3106e434-d65a-498b-add4-5726edcf4b41",
   "metadata": {},
   "outputs": [],
   "source": [
    "node_inputs = input_irreps.randn(3, -1)\n",
    "# We make both A points have equivalent input values\n",
    "node_inputs[-1, 0] = node_inputs[0, 0]\n",
    "node_inputs[-1, 1:] = -node_inputs[0, 1:]\n",
    "node_inputs"
   ]
  },
  {
   "cell_type": "markdown",
   "id": "e9c6709e-f238-4518-b7ec-309d80ba5583",
   "metadata": {},
   "source": [
    "And now we can call the function (in torch modules this is done by calling the `forward` method).\n",
    "\n",
    "It needs two things:\n",
    "\n",
    "- Some **information about the configuration**: `node_types`, `edge_index`, `edge_types`, `edge_type_nlabels`. This is all extracted from the `BasisMatrixTorchData` object that we created previously.\n",
    "- The inputs from which to compute the matrix. However, **the function needs to know if the inputs that you pass are node-wise, edge-wise or global**. The way you tell the function this is by passing them to `node_kwargs`, `edge_kwargs` and `global_kwargs` respectively. In our case, we have one input for each node, and therefore we will pass them to `node_kwargs`. For the operations that we are using (see `readout.summary`), the key of the input doesn't matter. We just name it `\"node_state\"`, but we could have given it any other name."
   ]
  },
  {
   "cell_type": "code",
   "execution_count": null,
   "id": "17732c24-b382-47c0-9352-c568491b4ab5",
   "metadata": {},
   "outputs": [],
   "source": [
    "node_labels, edge_labels = readout.forward(\n",
    "    node_types=data[\"point_types\"],\n",
    "    edge_index=data[\"edge_index\"],\n",
    "    edge_types=data[\"edge_types\"],\n",
    "    edge_type_nlabels=data[\"edge_type_nlabels\"],\n",
    "    node_kwargs={\"node_state\": node_inputs},\n",
    ")"
   ]
  },
  {
   "cell_type": "markdown",
   "id": "ae844683-7054-433b-961f-5d0d1fa9d783",
   "metadata": {},
   "source": [
    "Let's see what we received as output:"
   ]
  },
  {
   "cell_type": "code",
   "execution_count": null,
   "id": "5701d404-31bf-444d-873e-79010e51c973",
   "metadata": {},
   "outputs": [],
   "source": [
    "print(\"NODE LABELS: \", node_labels)\n",
    "print(\"EDGE LABELS:\", edge_labels)"
   ]
  },
  {
   "cell_type": "markdown",
   "id": "7581b667-6c7d-47d1-b290-980b6ca3abab",
   "metadata": {},
   "source": [
    "**We expected a matrix, and instead we get two flat arrays!**\n",
    "\n",
    " <img src=\"https://media4.giphy.com/media/FcuiZUneg1YRAu1lH2/giphy.gif?cid=ecf05e47l8oqq4sufybs72lu8jzvu1ow32m1fiqrc24lhgj8&ep=v1_gifs_search&rid=giphy.gif&ct=g\" alt=\"confused\" width=\"200\"/>\n",
    "\n",
    "Don't worry, **it's just a different representation of the matrix** that is much more convenient for the function to compute. When training a model using this function, it is possible that you don't actually need to convert this to a \"real\" matrix. That's why the arrays are returned like this.\n",
    "\n",
    "In our particular case, however, we are on a mission to get the matrix, so **we need to do some simple post processing**.\n",
    "\n",
    "<div class=\"alert alert-info\">\n",
    "\n",
    "Note\n",
    "\n",
    "These tensors have been computed with pytorch operations, so they keep track of the operations performed. Therefore, **gradients can be computed** either from these tensors or from further tensors that you compute with them. \n",
    "\n",
    "</div>"
   ]
  },
  {
   "cell_type": "markdown",
   "id": "f0a3ce49-4b6e-4b83-9f44-5c6beef5f7a4",
   "metadata": {},
   "source": [
    "Post processing\n",
    "---------------\n",
    "\n",
    "This step is simple. Remember we created a `MatrixDataProcessor`? It's time to put it to use!\n",
    "\n",
    "The processor has an `matrix_from_data` method that given:\n",
    "\n",
    "- The **information of the configuration**, in the form of the preprocessed `BasisMatrixTorchData` object.\n",
    "- The **output of the function** to the `predictions` argument.\n",
    "\n",
    "\n",
    "will return the actual **sparse** matrix:"
   ]
  },
  {
   "cell_type": "code",
   "execution_count": null,
   "id": "41e37d45-3687-4bff-bc5d-0f712c31c515",
   "metadata": {},
   "outputs": [],
   "source": [
    "matrix = processor.matrix_from_data(\n",
    "    data,\n",
    "    predictions={\"node_labels\": node_labels, \"edge_labels\": edge_labels},\n",
    ")\n",
    "matrix"
   ]
  },
  {
   "cell_type": "markdown",
   "id": "7b5b475a-b55e-4e29-b212-ec54e9f6a614",
   "metadata": {},
   "source": [
    "This is a `scipy` sparse matrix. If you are not familiar with sparse matrices, they are just an efficient way of storing matrices with many zeros.\n",
    "\n",
    "You can actually convert them to a dense `numpy` array:"
   ]
  },
  {
   "cell_type": "code",
   "execution_count": null,
   "id": "cfa794cc-0317-4766-9234-e0303dc90c79",
   "metadata": {},
   "outputs": [],
   "source": [
    "matrix.toarray()"
   ]
  },
  {
   "cell_type": "markdown",
   "id": "c3c4a990-1cbb-4188-8035-ac3ca222709b",
   "metadata": {},
   "source": [
    "And we also provide `plot_basis_matrix`, a nice tool to quickly visualize the matrix and understand what you got."
   ]
  },
  {
   "cell_type": "code",
   "execution_count": null,
   "id": "bb65835b-b2c6-4b18-adaf-ffd3c4b68f9b",
   "metadata": {},
   "outputs": [],
   "source": [
    "from e3nn_matrix.tools.viz import plot_basis_matrix\n",
    "\n",
    "plot_basis_matrix(\n",
    "    matrix,\n",
    "    config,\n",
    "    point_lines={\"color\": \"black\"},\n",
    "    basis_lines={\"color\": \"blue\"},\n",
    "    colorscale=\"temps\",\n",
    "    text=\".3f\",\n",
    "    basis_labels=True,\n",
    ")"
   ]
  },
  {
   "cell_type": "markdown",
   "id": "e777f505-21a6-4719-a225-28b5621ffeb5",
   "metadata": {},
   "source": [
    "The black lines delimit blocks of the matrix that correspond to the same point-point interaction, and the blue dashed lines delimit the blocks of interaction between sets of basis functions.\n",
    "\n",
    "The rows and columns are labeled as $P: (l, m)$ where $P$ is the index of the point and $l$, $m$ are the indices of the spherical harmonics.\n",
    "\n",
    "There are some important things to note:\n",
    "\n",
    "- **There are two white squares**. These correspond to values of the matrix that were not set. Which points are interacting for those elements? Does it make sense that we have a blank space there then?\n",
    "- Look at the **interactions between points 0 and 1 and compare them to those between points 1 and 2**. How similar are they? Does it make sense?\n",
    "- From the previous point, you will conclude that the reason there's something special is because the structure is symmetric. Try to move then the third point (change its position) to see if something changes. You will see that nothing changes. This is because `BasisMatrixReadout` is the rawest matrix generating module. It simply **trusts that the inputs contain all the important information** and just combines the inputs to generate the matrix. More complex subclasses of `BasisMatrixReadout` might use edge distances and directions, etc...\n",
    "- As a conclusion from the previous point, we can extract that **if we change the inputs, that should induce changes in the matrix**. Try to change them, keeping in mind that the first number is a scalar and the other three a vector. Maybe **try to rotate the vector** and see what happens. You will discover that **`BasisMatrixReadout` is an equivariant function**."
   ]
  },
  {
   "cell_type": "markdown",
   "id": "7a68253e-c6aa-423e-8625-0390f65c606e",
   "metadata": {},
   "source": [
    "Summary and next steps\n",
    "-----------"
   ]
  },
  {
   "cell_type": "markdown",
   "id": "796c73fc-93cf-41cf-8ba9-73c4f646bffd",
   "metadata": {},
   "source": [
    "In this notebook we learned the whole process to go **from the coordinates** of some points in space **to a matrix of spherical harmonics**.\n",
    "\n",
    "The **next steps** could be:\n",
    "\n",
    "- Understanding how to compute multiple matrices with the same function call (**batching**). See [this notebook](./Batching.ipynb).\n",
    "- Understanding how to **train the function** to produce the target matrix.\n",
    "- Combining this function with other modules for a particular application."
   ]
  }
 ],
 "metadata": {
  "kernelspec": {
   "display_name": "Python 3 (ipykernel)",
   "language": "python",
   "name": "python3"
  },
  "language_info": {
   "codemirror_mode": {
    "name": "ipython",
    "version": 3
   },
   "file_extension": ".py",
   "mimetype": "text/x-python",
   "name": "python",
   "nbconvert_exporter": "python",
   "pygments_lexer": "ipython3",
   "version": "3.8.15"
  }
 },
 "nbformat": 4,
 "nbformat_minor": 5
}
