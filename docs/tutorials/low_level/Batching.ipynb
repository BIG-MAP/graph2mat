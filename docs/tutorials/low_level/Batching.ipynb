{
 "cells": [
  {
   "cell_type": "markdown",
   "id": "17e46877-a8ec-4e77-88e1-76cbb9da9c9e",
   "metadata": {},
   "source": [
    "# Batching\n",
    "\n",
    "This notebook introduces you to one aspect of generating matrices that you will inevitably face when training a model: **batching**.\n",
    "\n",
    "Before reading this notebook, **make sure you have read the [notebook on computing a matrix](<./Computing a matrix.ipynb>)**, which introduces all of the most basic concepts of `e3nn_matrix` that we are going to assume are already known. Also **we will use exactly the same setup**, with the only difference that we will compute **two matrices at the same time instead of just one**."
   ]
  },
  {
   "cell_type": "code",
   "execution_count": null,
   "id": "916d00c9-5206-4090-880b-062eb4d8d852",
   "metadata": {},
   "outputs": [],
   "source": [
    "import numpy as np\n",
    "\n",
    "# So that we can plot sisl geometries\n",
    "import sisl.viz\n",
    "\n",
    "from e3nn import o3\n",
    "\n",
    "from e3nn_matrix.data import (\n",
    "    BasisConfiguration,\n",
    "    PointBasis,\n",
    "    BasisTableWithEdges,\n",
    "    MatrixDataProcessor,\n",
    ")\n",
    "from e3nn_matrix.torch import BasisMatrixDataset, BasisMatrixReadout\n",
    "\n",
    "from e3nn_matrix.tools.viz import plot_basis_matrix"
   ]
  },
  {
   "cell_type": "markdown",
   "id": "05c9e8e4-d23c-4654-91d7-2f388c8e823d",
   "metadata": {},
   "source": [
    "The matrix-computing function \n",
    "-----------------------------"
   ]
  },
  {
   "cell_type": "markdown",
   "id": "f302cd88-70bd-471d-99f1-1ca9791f3656",
   "metadata": {},
   "source": [
    "As we have already seen in the notebook on computing a matrix, we need to define a **basis**, **a basis table**, **a data processor** an **the input shape**. With all this, we can **initialize the matrix-computing function**. We define everything exactly as in the other notebook:"
   ]
  },
  {
   "cell_type": "code",
   "execution_count": null,
   "id": "75880a7a-1587-48c2-a22a-3b43d32d6d14",
   "metadata": {},
   "outputs": [],
   "source": [
    "# The basis\n",
    "point_1 = PointBasis(\"A\", \"spherical\", o3.Irreps(\"0e\"), R=2)\n",
    "point_2 = PointBasis(\"B\", \"spherical\", o3.Irreps(\"2x0e + 1o\"), R=5)\n",
    "\n",
    "basis = [point_1, point_2]\n",
    "\n",
    "# The basis table.\n",
    "table = BasisTableWithEdges(basis)\n",
    "\n",
    "# The data processor.\n",
    "processor = MatrixDataProcessor(\n",
    "    basis_table=table, symmetric_matrix=True, sub_point_matrix=False\n",
    ")\n",
    "\n",
    "# The input shape\n",
    "input_irreps = o3.Irreps(\"0e + 1o\")\n",
    "\n",
    "# The matrix readout function\n",
    "readout = BasisMatrixReadout(\n",
    "    unique_basis=basis,\n",
    "    irreps_in=input_irreps,\n",
    "    symmetric=True,\n",
    ")"
   ]
  },
  {
   "cell_type": "markdown",
   "id": "0f56420e-fd80-4415-a056-a97c873ea8c1",
   "metadata": {},
   "source": [
    "Creating two configurations\n",
    "---------------------------"
   ]
  },
  {
   "cell_type": "markdown",
   "id": "e2f4b7b1-3b28-4a20-a952-cec2fd223073",
   "metadata": {},
   "source": [
    "Now, **we will create two configurations instead of one**. Both will have the same coordinates, the only difference will be that **we will swap the point types**. However, you could give different coordinates to each of them as well, or a different number of atoms.\n",
    "\n",
    "We'll store both configurations in a `configs` list."
   ]
  },
  {
   "cell_type": "code",
   "execution_count": null,
   "id": "ba2df3ab-9248-4c71-9628-40dfe5eac76c",
   "metadata": {},
   "outputs": [],
   "source": [
    "positions = np.array([[0, 0, 0], [6.0, 0, 0], [12, 0, 0]])\n",
    "\n",
    "config1 = BasisConfiguration(\n",
    "    point_types=[\"A\", \"B\", \"A\"],\n",
    "    positions=positions,\n",
    "    basis=basis,\n",
    "    cell=np.eye(3) * 100,\n",
    "    pbc=(False, False, False),\n",
    ")\n",
    "\n",
    "config2 = BasisConfiguration(\n",
    "    point_types=[\"B\", \"A\", \"B\"],\n",
    "    positions=positions,\n",
    "    basis=basis,\n",
    "    cell=np.eye(3) * 100,\n",
    "    pbc=(False, False, False),\n",
    ")\n",
    "\n",
    "configs = [config1, config2]"
   ]
  },
  {
   "cell_type": "markdown",
   "id": "821c2c5d-38ac-412b-9938-a56cdfc32521",
   "metadata": {},
   "source": [
    "As we did in the other notebook, we plot the configurations to see how they look like, and visualize the overlaps:"
   ]
  },
  {
   "cell_type": "code",
   "execution_count": null,
   "id": "eb723794-63da-44b0-a230-f03ec1ddb4d9",
   "metadata": {},
   "outputs": [],
   "source": [
    "geom1 = config1.to_sisl_geometry()\n",
    "geom1.plot(show_cell=False, atoms_style={\"size\": geom1.maxR(all=True)}).update_layout(\n",
    "    title=\"Config 1\"\n",
    ").show()\n",
    "\n",
    "geom2 = config2.to_sisl_geometry()\n",
    "geom2.plot(show_cell=False, atoms_style={\"size\": geom2.maxR(all=True)}).update_layout(\n",
    "    title=\"Config 2\"\n",
    ").show()"
   ]
  },
  {
   "cell_type": "markdown",
   "id": "de23aaf0-98ce-41b6-bb63-c59c460ea27a",
   "metadata": {},
   "source": [
    "Build a dataset\n",
    "---------------"
   ]
  },
  {
   "cell_type": "markdown",
   "id": "f16ca7df-e017-45e7-8e1a-e677136e6532",
   "metadata": {},
   "source": [
    "With all our configurations, we can **create a dataset**. The specific class that does this is the `BasisMatrixDataset`, which **apart from the configurations needs the data processor** as usual. "
   ]
  },
  {
   "cell_type": "code",
   "execution_count": null,
   "id": "c4bd1b58-1ddb-4311-92fb-4bea3c0e1fd1",
   "metadata": {},
   "outputs": [],
   "source": [
    "dataset = BasisMatrixDataset(configs, data_processor=processor)"
   ]
  },
  {
   "cell_type": "markdown",
   "id": "f688a7ba-ede5-4dc0-a146-3105bcb75b9e",
   "metadata": {},
   "source": [
    "This dataset contains all the configurations. We now just need some tool to create batches from it."
   ]
  },
  {
   "cell_type": "markdown",
   "id": "5607677a-5cc7-49d9-8471-2feb74f3b818",
   "metadata": {},
   "source": [
    "Batching with a DataLoader\n",
    "-------------------"
   ]
  },
  {
   "cell_type": "markdown",
   "id": "085192e4-ca2b-46bb-a3e4-c22db36498e5",
   "metadata": {},
   "source": [
    "You don't need an `e3nn_matrix` specific tool to create batches. In fact, **we recommend that you use `torch_geometric`'s `DataLoader`**:"
   ]
  },
  {
   "cell_type": "code",
   "execution_count": null,
   "id": "9e318330-ea52-4326-8743-67d3b6b29044",
   "metadata": {},
   "outputs": [],
   "source": [
    "from torch_geometric.loader import DataLoader"
   ]
  },
  {
   "cell_type": "markdown",
   "id": "b5452134-9b9f-489c-9b9e-ec11cbfbfc81",
   "metadata": {},
   "source": [
    "Everything that you need to do is: **pass the dataset** and **specify some batch size**. "
   ]
  },
  {
   "cell_type": "code",
   "execution_count": null,
   "id": "8e18ecd7-2439-48c8-96f9-e78e4c696043",
   "metadata": {},
   "outputs": [],
   "source": [
    "loader = DataLoader(dataset, batch_size=2)"
   ]
  },
  {
   "cell_type": "markdown",
   "id": "7238ca0d-8f8f-43e3-ba1c-c65db1f08918",
   "metadata": {},
   "source": [
    "In this case we use a batch size of `2`, which is our total number of configurations. Therefore, **we will only have one batch**.\n",
    "\n",
    "Let's loop through the batches (only 1) and print them:"
   ]
  },
  {
   "cell_type": "code",
   "execution_count": null,
   "id": "9c59b876-290f-406d-8873-1e643a19d0b4",
   "metadata": {},
   "outputs": [],
   "source": [
    "for data in loader:\n",
    "    print(data)"
   ]
  },
  {
   "cell_type": "markdown",
   "id": "f2d07299-dbb5-43d9-85b6-47b954e2ca11",
   "metadata": {},
   "source": [
    "Calling the function\n",
    "--------------------"
   ]
  },
  {
   "cell_type": "markdown",
   "id": "b8bf8ec0-a8fe-4b87-9eef-131770fcf241",
   "metadata": {},
   "source": [
    "We now have our batch object, `data`. It is a `Batch` object. In the previous notebook, we called the function from a `BasisMatrixTorchData` object. One might think that having batched data might make it more complicated to call the function.\n",
    "\n",
    "However, it is **exactly the same code that you have to use to compute matrices in a batch**. First, of course, we need to get our inputs, which we generate artificially here (in the batch we have 6 nodes, each of them needs a scalar and a vector):"
   ]
  },
  {
   "cell_type": "code",
   "execution_count": null,
   "id": "22735106-7d9b-481d-9d4c-bb2943a566e0",
   "metadata": {},
   "outputs": [],
   "source": [
    "node_inputs = input_irreps.randn(6, -1, requires_grad=True)\n",
    "node_inputs"
   ]
  },
  {
   "cell_type": "markdown",
   "id": "0014f9b1-ca14-47b1-b2d4-a3c62449b639",
   "metadata": {},
   "source": [
    "And from them, we compute the matrices. We use the inputs as well as the preprocessed data in the batch, with exactly the same code that we have already seen:"
   ]
  },
  {
   "cell_type": "code",
   "execution_count": null,
   "id": "75a8d309-a3bb-4b00-b1ca-6420a4b1f2d1",
   "metadata": {},
   "outputs": [],
   "source": [
    "node_labels, edge_labels = readout.forward(\n",
    "    node_types=data[\"point_types\"],\n",
    "    edge_index=data[\"edge_index\"],\n",
    "    edge_types=data[\"edge_types\"],\n",
    "    edge_type_nlabels=data[\"edge_type_nlabels\"],\n",
    "    node_kwargs={\"node_state\": node_inputs},\n",
    ")"
   ]
  },
  {
   "cell_type": "code",
   "execution_count": null,
   "id": "5849209e-e5f4-46d2-87e4-d342f09f4b11",
   "metadata": {},
   "outputs": [],
   "source": [
    "node_labels"
   ]
  },
  {
   "cell_type": "code",
   "execution_count": null,
   "id": "64576d16-3438-47cd-88b4-b324c628cad4",
   "metadata": {},
   "outputs": [],
   "source": [
    "edge_labels"
   ]
  },
  {
   "cell_type": "markdown",
   "id": "3e58cb63-9966-47fa-9ca5-279cb29d853d",
   "metadata": {},
   "source": [
    "Disentangling the batch\n",
    "----------------------"
   ]
  },
  {
   "cell_type": "markdown",
   "id": "81ea46b6-d132-461f-b45e-80736fde78a1",
   "metadata": {},
   "source": [
    "As simple as it is to run a batched calculation, **disentangling everything back into individual cases is harder**. It is even harder in our case, in which we have **batched sparse matrices**.\n",
    "\n",
    "Not only you have to handle the indices of the sparsity pattern, but also the additional aggregation of the batches. This is the reason why in the `BasisMatrixData` objects you can see so many pointer arrays. They are needed to keep track of the organization.\n",
    "\n",
    "Making use of those indices, **the data processor can disentangle the batch** and give you the individual cases. You'll be happy to see that you can call the `matrix_from_data` method of the processor, **just as you did with the single matrix case**, and it will return a `tuple` of matrices instead of just one:"
   ]
  },
  {
   "cell_type": "code",
   "execution_count": null,
   "id": "92c66144-13ef-40c5-8249-6639df931702",
   "metadata": {},
   "outputs": [],
   "source": [
    "matrices = processor.matrix_from_data(\n",
    "    data,\n",
    "    predictions={\"node_labels\": node_labels, \"edge_labels\": edge_labels},\n",
    ")\n",
    "matrices"
   ]
  },
  {
   "cell_type": "markdown",
   "id": "9a56fe3f-bfec-4572-b5f0-23ea99135cd3",
   "metadata": {},
   "source": [
    "<div class=\"alert alert-info\">\n",
    "\n",
    "Note\n",
    "\n",
    "`matrix_from_data` has automatically detected that the data passed was a `torch_geometric`'s `Batch` object. There's also the `is_batch` argument to explicitly indicate if it is a batch or not. Also, the processor has the `yield_from_batch` method, which is more explicit and will return a generator instead of a tuple, which is better for very big matrices if you want to process them individually.\n",
    "\n",
    "</div>"
   ]
  },
  {
   "cell_type": "markdown",
   "id": "cd1e8992-f40d-4bef-9f2e-4e43e8ad763d",
   "metadata": {},
   "source": [
    "As we already did in the previous notebook, we can plot the matrices:"
   ]
  },
  {
   "cell_type": "code",
   "execution_count": null,
   "id": "d5cf2783-58ea-4481-aa7e-74aa87af5348",
   "metadata": {},
   "outputs": [],
   "source": [
    "for config, matrix in zip(configs, matrices):\n",
    "    plot_basis_matrix(\n",
    "        matrix,\n",
    "        config,\n",
    "        point_lines={\"color\": \"black\"},\n",
    "        basis_lines={\"color\": \"blue\"},\n",
    "        colorscale=\"temps\",\n",
    "        text=\".2f\",\n",
    "        basis_labels=True,\n",
    "    ).show()"
   ]
  },
  {
   "cell_type": "markdown",
   "id": "013afba9-a7f5-4bdf-9e98-0de08eb34390",
   "metadata": {},
   "source": [
    "Try to relate the matrices to the systems we created and see if they make sense (they do) :)"
   ]
  },
  {
   "cell_type": "markdown",
   "id": "cfd1ee7f-8a84-4530-a199-0fb51e5c4ade",
   "metadata": {},
   "source": [
    "Summary and next steps\n",
    "-----------"
   ]
  },
  {
   "cell_type": "markdown",
   "id": "bca2b900-cde6-409f-9b87-0b29fb53bab4",
   "metadata": {},
   "source": [
    "In this notebook we learned **how to batch systems** and then **use the data processor to unbatch them**.\n",
    "\n",
    "The **next steps** could be:\n",
    "\n",
    "- Understanding how to **train the function** to produce the target matrix.\n",
    "- Combining this function with other modules for a particular application."
   ]
  },
  {
   "cell_type": "code",
   "execution_count": null,
   "id": "5f97544e-dd12-4d10-a36e-cfff86e9769b",
   "metadata": {},
   "outputs": [],
   "source": []
  }
 ],
 "metadata": {
  "kernelspec": {
   "display_name": "Python 3 (ipykernel)",
   "language": "python",
   "name": "python3"
  },
  "language_info": {
   "codemirror_mode": {
    "name": "ipython",
    "version": 3
   },
   "file_extension": ".py",
   "mimetype": "text/x-python",
   "name": "python",
   "nbconvert_exporter": "python",
   "pygments_lexer": "ipython3",
   "version": "3.8.15"
  }
 },
 "nbformat": 4,
 "nbformat_minor": 5
}
