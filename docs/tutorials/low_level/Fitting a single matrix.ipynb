{
 "cells": [
  {
   "cell_type": "markdown",
   "id": "97658521-39cc-4b66-b82a-e533a8d78901",
   "metadata": {},
   "source": [
    "# Fitting a single matrix\n",
    "\n",
    "**This notebook shows how you can fit your function to predict a single matrix, which we create synthetically.**\n",
    "\n",
    "This is not of course a real life example of how you might train your models, but it is nice to:\n",
    "\n",
    "- **Introduce the metrics** that can be used as loss functions.\n",
    "- **Introduce the simplest training loop**.\n",
    "\n",
    "It is **specially useful if you are quite new to machine learning**, because it goes step by step. It also serves as a minimal example from which you can expand to create training flows different from the ones we propose."
   ]
  },
  {
   "cell_type": "code",
   "execution_count": null,
   "id": "cb3ffe9a-000b-4661-b7c4-b9bbfcc31575",
   "metadata": {},
   "outputs": [],
   "source": [
    "import numpy as np\n",
    "import pandas as pd\n",
    "import torch\n",
    "\n",
    "# To load plotly templates for sisl visualization\n",
    "import sisl.viz\n",
    "\n",
    "from e3nn import o3\n",
    "\n",
    "from e3nn_matrix.data import (\n",
    "    BasisConfiguration,\n",
    "    PointBasis,\n",
    "    BasisTableWithEdges,\n",
    "    MatrixDataProcessor,\n",
    ")\n",
    "from e3nn_matrix.torch import (\n",
    "    BasisMatrixDataset,\n",
    "    BasisMatrixReadout,\n",
    "    BasisMatrixTorchData,\n",
    ")\n",
    "\n",
    "# from e3nn_matrix.data.batch_utils import batch_to_orbital_matrix_data\n",
    "from e3nn_matrix.tools.viz import plot_basis_matrix"
   ]
  },
  {
   "cell_type": "markdown",
   "id": "9af6f1b7-3385-4dbd-ae4a-8419dcb0bb16",
   "metadata": {},
   "source": [
    "Setting up the model\n",
    "--------------------"
   ]
  },
  {
   "cell_type": "markdown",
   "id": "5db61cc2-6a99-4f0a-960b-a9be74af86fb",
   "metadata": {},
   "source": [
    "As usual, let's create our model:"
   ]
  },
  {
   "cell_type": "code",
   "execution_count": null,
   "id": "b230c911-1aec-4018-81bd-7615babdfe8e",
   "metadata": {},
   "outputs": [],
   "source": [
    "# The basis\n",
    "point_1 = PointBasis(\"A\", \"spherical\", o3.Irreps(\"0e\"), R=2)\n",
    "point_2 = PointBasis(\"B\", \"spherical\", o3.Irreps(\"2x0e + 1o\"), R=5)\n",
    "\n",
    "basis = [point_1, point_2]\n",
    "\n",
    "# The basis table.\n",
    "table = BasisTableWithEdges(basis)\n",
    "\n",
    "# The data processor.\n",
    "processor = MatrixDataProcessor(\n",
    "    basis_table=table, symmetric_matrix=True, sub_point_matrix=False\n",
    ")\n",
    "\n",
    "# The input shape\n",
    "input_irreps = o3.Irreps(\"0e + 1o\")\n",
    "\n",
    "# The matrix readout function\n",
    "model = BasisMatrixReadout(\n",
    "    unique_basis=basis,\n",
    "    irreps_in=input_irreps,\n",
    "    symmetric=True,\n",
    ")"
   ]
  },
  {
   "cell_type": "markdown",
   "id": "6cddea3f-732f-400a-9e04-7fc8f3309c5d",
   "metadata": {},
   "source": [
    "And some toy configuration to play around (this is the same as in [the notebook about computing a matrix](<./Computing a matrix.ipynb>)):"
   ]
  },
  {
   "cell_type": "code",
   "execution_count": null,
   "id": "4c22dfc0-c3f9-4ee5-9fdf-cae85e6e018d",
   "metadata": {},
   "outputs": [],
   "source": [
    "positions = np.array([[0, 0, 0], [6.0, 0, 0], [12, 0, 0]])\n",
    "\n",
    "config = BasisConfiguration(\n",
    "    point_types=[\"A\", \"B\", \"A\"],\n",
    "    positions=positions,\n",
    "    basis=basis,\n",
    "    cell=np.eye(3) * 100,\n",
    "    pbc=(False, False, False),\n",
    ")"
   ]
  },
  {
   "cell_type": "markdown",
   "id": "a5d856ea-1a35-4718-b256-d458cfa6c716",
   "metadata": {},
   "source": [
    "Which we preprocess to be digestible by the model."
   ]
  },
  {
   "cell_type": "code",
   "execution_count": null,
   "id": "e99f058b-e272-450f-af1f-c470de3321d4",
   "metadata": {},
   "outputs": [],
   "source": [
    "data = BasisMatrixTorchData.from_config(config, data_processor=processor)"
   ]
  },
  {
   "cell_type": "markdown",
   "id": "27729618-471e-4255-a507-572d64df3bb6",
   "metadata": {},
   "source": [
    "Get the target matrix\n",
    "--------------------"
   ]
  },
  {
   "cell_type": "markdown",
   "id": "43c6367f-d986-4540-b20a-f7a4d4c0959e",
   "metadata": {},
   "source": [
    "The goal of training a model is to make it **approximate as good as possible another function** that is **likely much more expensive** to compute.\n",
    "\n",
    "$$ model(x, \\textbf{W}) \\approx function(x) $$\n",
    "\n",
    "Where $\\textbf{W}$ are the *weights*, or tunable parameters of the $model$. Since $model$ and $function$ are different functions, the goal is to tune $\\textbf{W}$ to make them as similar as possible. This is usually done by **comparing the outputs of both functions and using an optimizer to reduce the differences** until you are satisfied or they can no longer be reduced.\n",
    "\n",
    "In this case, our target $function$ will simply be another `BasisMatrixReadout` with different weights. This of course makes no sense for a real life application, but it will serve nicely for our test case here."
   ]
  },
  {
   "cell_type": "code",
   "execution_count": null,
   "id": "7abdccfe-5e23-4e71-9ecd-8f55cd38c638",
   "metadata": {},
   "outputs": [],
   "source": [
    "# The matrix readout function\n",
    "function = BasisMatrixReadout(\n",
    "    unique_basis=basis,\n",
    "    irreps_in=input_irreps,\n",
    "    symmetric=True,\n",
    ")"
   ]
  },
  {
   "cell_type": "markdown",
   "id": "e35cf7eb-8a85-4d97-aeeb-3ba96fd7f243",
   "metadata": {},
   "source": [
    "With **our function we will compute the target matrix**. As usual we will generate some random (but equivariant) inputs:"
   ]
  },
  {
   "cell_type": "code",
   "execution_count": null,
   "id": "b3de5c94-3035-4e72-9e33-f451c337cdc2",
   "metadata": {},
   "outputs": [],
   "source": [
    "node_inputs = input_irreps.randn(3, -1)\n",
    "# We make both A points have equivalent input values\n",
    "node_inputs[-1, 0] = node_inputs[0, 0]\n",
    "node_inputs[-1, 1:] = -node_inputs[0, 1:]\n",
    "node_inputs"
   ]
  },
  {
   "cell_type": "markdown",
   "id": "b247e36d-35ba-4011-bbb4-ebca736c69ec",
   "metadata": {},
   "source": [
    "And then compute it:"
   ]
  },
  {
   "cell_type": "code",
   "execution_count": null,
   "id": "652053ec-f7ce-4a04-a661-e6cdeeef93e5",
   "metadata": {},
   "outputs": [],
   "source": [
    "with torch.no_grad():\n",
    "    labels = function(\n",
    "        node_types=data[\"point_types\"],\n",
    "        edge_index=data[\"edge_index\"],\n",
    "        edge_types=data[\"edge_types\"],\n",
    "        edge_type_nlabels=data[\"edge_type_nlabels\"],\n",
    "        node_kwargs={\"node_state\": node_inputs},\n",
    "    )"
   ]
  },
  {
   "cell_type": "markdown",
   "id": "0a8fde8f-ac52-4122-8a60-8770556a9643",
   "metadata": {},
   "source": [
    "The target values for the model are usually called *labels*, meaning that they label the data specifying its properties. \n",
    "\n",
    "Noticed also that we called `torch-no_grad` on the inputs, this is because we want to take the data generated from `function` as the truth, so the parameters inside function should not be modified and therefore we don't need to retain the computational graph from inputs to outputs (just a technical detail arising from using `BasisMatrixReadout` as the true function)."
   ]
  },
  {
   "cell_type": "markdown",
   "id": "0b72d4ab-05bf-43b9-a120-d466068c8808",
   "metadata": {},
   "source": [
    "Comparing it to predictions\n",
    "---------------------------"
   ]
  },
  {
   "cell_type": "markdown",
   "id": "c90587c6-8730-41ec-ae89-569d73a4e258",
   "metadata": {},
   "source": [
    "Let's now compare the target matrix to our predictions. Compute the predictions:"
   ]
  },
  {
   "cell_type": "code",
   "execution_count": null,
   "id": "cb067233-143e-4450-b411-f1b30e648f0a",
   "metadata": {},
   "outputs": [],
   "source": [
    "predictions = model(\n",
    "    node_types=data[\"point_types\"],\n",
    "    edge_index=data[\"edge_index\"],\n",
    "    edge_types=data[\"edge_types\"],\n",
    "    edge_type_nlabels=data[\"edge_type_nlabels\"],\n",
    "    node_kwargs={\"node_state\": node_inputs},\n",
    ")"
   ]
  },
  {
   "cell_type": "markdown",
   "id": "1fc5f38a-ac22-4d62-aeab-600f739fc858",
   "metadata": {},
   "source": [
    "And print both:"
   ]
  },
  {
   "cell_type": "code",
   "execution_count": null,
   "id": "e08fb3be-8661-48f8-b241-055b7163cedd",
   "metadata": {},
   "outputs": [],
   "source": [
    "print(\"LABELS (target matrix)\\n-------------------\")\n",
    "print(labels)\n",
    "print(\"\\nPREDICTIONS\\n-------------------\")\n",
    "print(predictions)"
   ]
  },
  {
   "cell_type": "markdown",
   "id": "0a25439b-9e5b-42d4-85c4-df22d7b3eb09",
   "metadata": {},
   "source": [
    "You can see that they are **anywhere close to resemble one another**. Our goal will be to make this as similar as possible.\n",
    "\n",
    "We can also plot the actual matrices to see it more clearly:"
   ]
  },
  {
   "cell_type": "code",
   "execution_count": null,
   "id": "3a92e192-4b9b-4b3f-b359-a6f56096acde",
   "metadata": {},
   "outputs": [],
   "source": [
    "def plot_labels(labels):\n",
    "    matrix = processor.matrix_from_data(\n",
    "        data,\n",
    "        predictions={\"node_labels\": labels[0], \"edge_labels\": labels[1]},\n",
    "    )\n",
    "\n",
    "    return plot_basis_matrix(\n",
    "        matrix,\n",
    "        config,\n",
    "        point_lines={\"color\": \"black\"},\n",
    "        basis_lines={\"color\": \"blue\"},\n",
    "        colorscale=\"temps\",\n",
    "        text=\".2f\",\n",
    "        basis_labels=True,\n",
    "    )\n",
    "\n",
    "\n",
    "plot_labels(labels).update_layout(title=\"Labels\").show()\n",
    "plot_labels(predictions).update_layout(title=\"Predictions\")"
   ]
  },
  {
   "cell_type": "markdown",
   "id": "76cf7397-a440-4d6e-8ffb-3da986f93d50",
   "metadata": {},
   "source": [
    "Loss functions\n",
    "---------------"
   ]
  },
  {
   "cell_type": "markdown",
   "id": "0a8aa13a-d97c-4fe6-8a11-2da89be503d1",
   "metadata": {},
   "source": [
    "We can clearly see that these two matrices are different, but we need some quantitative way of saying how different they are. \n",
    "\n",
    "This seems like a simple task. However, there is no unique way of quantifying the error. Furthermore, if the optimizer needs to tune the model parameters to reduce this quantity, **it is generally useful to retain the dependence of the error with respect to each parameter**. This is in fact the main point of `pytorch`, which can automatically compute gradients $\\frac{\\partial error}{\\partial \\textbf{W}_i}$.\n",
    "\n",
    "In `e3nn_matrix.data.metrics` you will find some useful metrics that can be used as loss (error) functions. The simplest one is `elementwise_mse`, which just computes the [Mean Squared Error](https://en.wikipedia.org/wiki/Mean_squared_error) of all the matrix elements. Let's use it:"
   ]
  },
  {
   "cell_type": "code",
   "execution_count": null,
   "id": "4015ec89-e4c8-4806-a553-174edd6430cd",
   "metadata": {},
   "outputs": [],
   "source": [
    "from e3nn_matrix.data.metrics import elementwise_mse"
   ]
  },
  {
   "cell_type": "code",
   "execution_count": null,
   "id": "50031541-509b-4563-83a8-25508014353e",
   "metadata": {},
   "outputs": [],
   "source": [
    "loss_fn = elementwise_mse\n",
    "\n",
    "loss, info = loss_fn(\n",
    "    nodes_pred=predictions[0],\n",
    "    nodes_ref=labels[0],\n",
    "    edges_pred=predictions[1],\n",
    "    edges_ref=labels[1],\n",
    ")"
   ]
  },
  {
   "cell_type": "markdown",
   "id": "8d352232-09b1-4138-bccd-c98b32762781",
   "metadata": {},
   "source": [
    "The simplest training loop\n",
    "--------------------------"
   ]
  },
  {
   "cell_type": "markdown",
   "id": "57087fa4-1dba-452e-ba4e-b0cae54edb99",
   "metadata": {},
   "source": [
    "Below we just create a simple `pytorch` training loop that:\n",
    "\n",
    "1. Uses the model to **compute predictions** for the matrix\n",
    "2. **Computes the loss** (error).\n",
    "3. Computes the gradients and **updates the model parameters**.\n",
    "4. **Goes back** to 1.\n",
    "\n",
    "While doing so we store the errors at each step so that we can plot their evolution later."
   ]
  },
  {
   "cell_type": "code",
   "execution_count": null,
   "id": "f5c1eb06-2e2f-4ca5-b298-25064bf8ef12",
   "metadata": {},
   "outputs": [],
   "source": [
    "# Number of training steps\n",
    "n_steps = 5000\n",
    "# Initialize an optimizer\n",
    "optimizer = torch.optim.Adam(model.parameters())\n",
    "\n",
    "# Initialize arrays to store errors\n",
    "losses = np.zeros(n_steps)\n",
    "node_rmse = np.zeros(n_steps)\n",
    "edge_rmse = np.zeros(n_steps)\n",
    "\n",
    "# Loop\n",
    "for i in range(n_steps):\n",
    "    # Reset gradients\n",
    "    optimizer.zero_grad()\n",
    "\n",
    "    # Make predictions for this batch\n",
    "    step_predictions = model(\n",
    "        node_types=data[\"point_types\"],\n",
    "        edge_index=data[\"edge_index\"],\n",
    "        edge_types=data[\"edge_types\"],\n",
    "        edge_type_nlabels=data[\"edge_type_nlabels\"],\n",
    "        node_kwargs={\"node_state\": node_inputs},\n",
    "    )\n",
    "\n",
    "    # Compute the loss\n",
    "    loss, info = loss_fn(\n",
    "        nodes_pred=step_predictions[0],\n",
    "        nodes_ref=labels[0],\n",
    "        edges_pred=step_predictions[1],\n",
    "        edges_ref=labels[1],\n",
    "    )\n",
    "\n",
    "    # Store errors\n",
    "    losses[i] = loss\n",
    "    node_rmse[i] = info[\"node_rmse\"]\n",
    "    edge_rmse[i] = info[\"edge_rmse\"]\n",
    "\n",
    "    # Compute gradients\n",
    "    loss.backward()\n",
    "\n",
    "    # Update weights\n",
    "    optimizer.step()"
   ]
  },
  {
   "cell_type": "markdown",
   "id": "f409b16e-ed88-407f-b867-53a82ec861bc",
   "metadata": {},
   "source": [
    "Checking results\n",
    "----------------"
   ]
  },
  {
   "cell_type": "markdown",
   "id": "e30c4b20-84d7-49bc-9895-7b5fd1ad072b",
   "metadata": {},
   "source": [
    "After training, we store all the errors in a dataframe:"
   ]
  },
  {
   "cell_type": "code",
   "execution_count": null,
   "id": "11a8e695-de12-4f3b-aac3-06bca144ab95",
   "metadata": {},
   "outputs": [],
   "source": [
    "df = pd.DataFrame(\n",
    "    np.array([losses, node_rmse, edge_rmse]).T,\n",
    "    columns=[\"loss\", \"node_rmse\", \"edge_rmse\"],\n",
    ")"
   ]
  },
  {
   "cell_type": "markdown",
   "id": "508a0322-26fe-4431-a5aa-89e3df240701",
   "metadata": {},
   "source": [
    "And plot them:"
   ]
  },
  {
   "cell_type": "code",
   "execution_count": null,
   "id": "d7c992cf-fbfc-4eb6-9208-ebdb60cd3353",
   "metadata": {},
   "outputs": [],
   "source": [
    "df.plot(backend=\"plotly\").update_layout(\n",
    "    yaxis_type=\"log\", yaxis_showgrid=True, xaxis_showgrid=True\n",
    ")"
   ]
  },
  {
   "cell_type": "markdown",
   "id": "34d318e2-f972-45cb-9f19-757690be0f73",
   "metadata": {},
   "source": [
    "We can also plot the target matrix along with the predictions of the model before and after training. You will see that **the model has learned to predict the matrix**. \n",
    "\n",
    "Of course it has, **this was an extremely easy task!** :)"
   ]
  },
  {
   "cell_type": "code",
   "execution_count": null,
   "id": "ed60b52d-e64c-4b73-85ec-7690fa59deef",
   "metadata": {},
   "outputs": [],
   "source": [
    "plot_labels(labels).update_layout(title=f\"Target matrix\").show()\n",
    "plot_labels(predictions).update_layout(title=f\"Predictions without training\").show()\n",
    "plot_labels(step_predictions).update_layout(\n",
    "    title=f\"Predictions after {n_steps} training steps\"\n",
    ")"
   ]
  },
  {
   "cell_type": "markdown",
   "id": "ab078f5c-5978-43d0-92d0-e989a822281c",
   "metadata": {},
   "source": [
    "Summary and next steps\n",
    "----------------------"
   ]
  },
  {
   "cell_type": "code",
   "execution_count": null,
   "id": "56dda0ea-a31b-41c9-a0bb-1f0eff7428a6",
   "metadata": {},
   "outputs": [],
   "source": []
  }
 ],
 "metadata": {
  "kernelspec": {
   "display_name": "Python 3 (ipykernel)",
   "language": "python",
   "name": "python3"
  },
  "language_info": {
   "codemirror_mode": {
    "name": "ipython",
    "version": 3
   },
   "file_extension": ".py",
   "mimetype": "text/x-python",
   "name": "python",
   "nbconvert_exporter": "python",
   "pygments_lexer": "ipython3",
   "version": "3.8.15"
  }
 },
 "nbformat": 4,
 "nbformat_minor": 5
}
