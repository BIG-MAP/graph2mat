{
 "cells": [
  {
   "cell_type": "markdown",
   "id": "879a04eb-f09d-498e-a8b9-ec7f9afb18a1",
   "metadata": {},
   "source": [
    "# MACE+Graph2Mat\n",
    "\n",
    "This notebook will show you how to integrate a `MACE` model with `Graph2Mat` through the python API. Note that you can also use `MACE+Graph2Mat` through the Command Line Interface (CLI).\n",
    "\n",
    "Prerequisites\n",
    "-------------\n",
    "Before reading this notebook, **make sure you have read the [notebook on computing a matrix](<./Computing a matrix.ipynb>) and [the notebook on batching](./Batching.ipynb)**, which introduce the basic concepts of `graph2mat` that we are going to assume are already known. Also **we will use exactly the same setup as in the batching notebook**, with the only difference that we will compute add target matrices to each structure."
   ]
  },
  {
   "cell_type": "code",
   "execution_count": null,
   "id": "29d9283a-3897-4660-b1e1-ba1f0ac8e57e",
   "metadata": {
    "scrolled": true
   },
   "outputs": [],
   "source": [
    "import numpy as np\n",
    "import pandas as pd\n",
    "import torch\n",
    "\n",
    "# To load plotly templates for sisl visualization\n",
    "import sisl.viz\n",
    "\n",
    "from e3nn import o3\n",
    "\n",
    "from graph2mat import (\n",
    "    BasisConfiguration,\n",
    "    PointBasis,\n",
    "    BasisTableWithEdges,\n",
    "    MatrixDataProcessor,\n",
    ")\n",
    "from graph2mat.bindings.torch import TorchBasisMatrixDataset, TorchBasisMatrixData\n",
    "\n",
    "from graph2mat.bindings.e3nn import E3nnGraph2Mat\n",
    "\n",
    "from graph2mat.tools.viz import plot_basis_matrix"
   ]
  },
  {
   "cell_type": "markdown",
   "id": "ebb499f0-7776-43ff-8f7e-29d0262ae7af",
   "metadata": {},
   "source": [
    "Generating a dataset\n",
    "--------------------\n",
    "\n",
    "We generate a dataset here just as we have done in the other notebooks."
   ]
  },
  {
   "cell_type": "code",
   "execution_count": null,
   "id": "672cea53-b2bb-4475-b295-ca069c9d05ff",
   "metadata": {
    "scrolled": true
   },
   "outputs": [],
   "source": [
    "# The basis\n",
    "point_1 = PointBasis(\"A\", R=2, basis=\"0e\", basis_convention=\"spherical\")\n",
    "point_2 = PointBasis(\"B\", R=5, basis=\"2x0e + 1o\", basis_convention=\"spherical\")\n",
    "\n",
    "# The basis table.\n",
    "table = BasisTableWithEdges([point_1, point_2])\n",
    "\n",
    "# The data processor.\n",
    "processor = MatrixDataProcessor(\n",
    "    basis_table=table, symmetric_matrix=True, sub_point_matrix=False\n",
    ")\n",
    "\n",
    "positions = np.array([[0, 0, 0], [6.0, 0, 0], [9, 0, 0]])\n",
    "\n",
    "config1 = BasisConfiguration(\n",
    "    point_types=[\"A\", \"B\", \"A\"],\n",
    "    positions=positions,\n",
    "    basis=[point_1, point_2],\n",
    "    cell=np.eye(3) * 100,\n",
    "    pbc=(False, False, False),\n",
    ")\n",
    "\n",
    "config2 = BasisConfiguration(\n",
    "    point_types=[\"B\", \"A\", \"B\"],\n",
    "    positions=positions,\n",
    "    basis=[point_1, point_2],\n",
    "    cell=np.eye(3) * 100,\n",
    "    pbc=(False, False, False),\n",
    ")\n",
    "\n",
    "configs = [config1, config2]\n",
    "\n",
    "dataset = TorchBasisMatrixDataset(configs, data_processor=processor)\n",
    "\n",
    "from torch_geometric.loader import DataLoader\n",
    "\n",
    "loader = DataLoader(dataset, batch_size=2)\n",
    "\n",
    "data = next(iter(loader))"
   ]
  },
  {
   "cell_type": "markdown",
   "id": "104016f4-8d27-4d6d-b5d0-93bce755c100",
   "metadata": {},
   "source": [
    "Initializing a MACE model\n",
    "-------------------------\n",
    "\n",
    "We will now initialize a normal MACE model.\n",
    "\n",
    "Note that you must have MACE installed, which you can do with:\n",
    "\n",
    "```\n",
    "pip install mace_torch\n",
    "```"
   ]
  },
  {
   "cell_type": "code",
   "execution_count": null,
   "id": "2fd5ac95-d2e5-4f42-a401-e8e626573b5c",
   "metadata": {
    "scrolled": true
   },
   "outputs": [],
   "source": [
    "from mace.modules import MACE, RealAgnosticResidualInteractionBlock\n",
    "\n",
    "num_interactions = 3\n",
    "hidden_irreps = o3.Irreps(\"1x0e + 1x1o\")\n",
    "\n",
    "mace_model = MACE(\n",
    "    r_max=10,\n",
    "    num_bessel=10,\n",
    "    num_polynomial_cutoff=10,\n",
    "    max_ell=2,  # 1,\n",
    "    interaction_cls=RealAgnosticResidualInteractionBlock,\n",
    "    interaction_cls_first=RealAgnosticResidualInteractionBlock,\n",
    "    num_interactions=num_interactions,\n",
    "    num_elements=2,\n",
    "    hidden_irreps=hidden_irreps,\n",
    "    MLP_irreps=o3.Irreps(\"2x0e\"),\n",
    "    atomic_energies=torch.tensor([0, 0]),\n",
    "    avg_num_neighbors=2,\n",
    "    atomic_numbers=[0, 1],\n",
    "    correlation=2,\n",
    "    gate=None,\n",
    ")"
   ]
  },
  {
   "cell_type": "markdown",
   "id": "520e3fcf-94d1-45b4-9e11-7efdab6a4de1",
   "metadata": {},
   "source": [
    "Now, we can pass our data through the mace model. MACE outputs many things, but we are just interested in the node features, which we can get from the `\"node_feats\"` key."
   ]
  },
  {
   "cell_type": "code",
   "execution_count": null,
   "id": "5dedf2b9-2a5b-428b-8a09-1075e6a9e9fc",
   "metadata": {},
   "outputs": [],
   "source": [
    "mace_output = mace_model(data)\n",
    "mace_output[\"node_feats\"]"
   ]
  },
  {
   "cell_type": "markdown",
   "id": "7c56c21c-7fae-4a1a-801d-91924a690bed",
   "metadata": {},
   "source": [
    "Our `Graph2Mat` model will take these node features and convert them to a matrix. Therefore we need to know what its irreps are, and then initialize the `Graph2Mat` module."
   ]
  },
  {
   "cell_type": "code",
   "execution_count": null,
   "id": "683f43d1-4708-4a89-aea0-499f5e6ba06f",
   "metadata": {
    "scrolled": true
   },
   "outputs": [],
   "source": [
    "# MACE outputs as node features the hidden irreps for each interaction, except\n",
    "# in the last interaction, where it computes just scalar features.\n",
    "mace_out_irreps = hidden_irreps * (num_interactions - 1) + str(hidden_irreps[0])\n",
    "\n",
    "# Initialize the matrix model with this information\n",
    "matrix_model = E3nnGraph2Mat(\n",
    "    unique_basis=table,\n",
    "    irreps=dict(node_feats_irreps=mace_out_irreps),\n",
    "    symmetric=True,\n",
    ")"
   ]
  },
  {
   "cell_type": "markdown",
   "id": "b5b429c0-14ed-4ee0-b02a-13eaa91ebfde",
   "metadata": {},
   "source": [
    "Now, we can use the matrix model, passing the node features computed by MACE:"
   ]
  },
  {
   "cell_type": "code",
   "execution_count": null,
   "id": "7c0f1150-a85b-46ed-8d57-0da6c8e878f5",
   "metadata": {},
   "outputs": [],
   "source": [
    "node_labels, edge_labels = matrix_model(data=data, node_feats=mace_output[\"node_feats\"])"
   ]
  },
  {
   "cell_type": "markdown",
   "id": "14acf864-cd18-4be4-bdc5-822ad263afcf",
   "metadata": {},
   "source": [
    "And plot the obtained matrices:"
   ]
  },
  {
   "cell_type": "code",
   "execution_count": null,
   "id": "a4e3ee28-29e1-43fb-a6f0-2e8f99f6d9cf",
   "metadata": {},
   "outputs": [],
   "source": [
    "matrices = processor.matrix_from_data(\n",
    "    data,\n",
    "    predictions={\"node_labels\": node_labels, \"edge_labels\": edge_labels},\n",
    ")\n",
    "\n",
    "for config, matrix in zip(configs, matrices):\n",
    "    plot_basis_matrix(\n",
    "        matrix,\n",
    "        config,\n",
    "        point_lines={\"color\": \"black\"},\n",
    "        basis_lines={\"color\": \"blue\"},\n",
    "        colorscale=\"temps\",\n",
    "        text=\".2f\",\n",
    "        basis_labels=True,\n",
    "    ).show()"
   ]
  },
  {
   "cell_type": "markdown",
   "id": "edff27e5-6921-4e9c-8264-0dd2f2bc25f6",
   "metadata": {},
   "source": [
    "Using MatrixMACE\n",
    "----------------\n",
    "\n",
    "If you don't want to handle the details of interacting `MACE` with `Graph2Mat`, you can also use `MatrixMACE`, which takes a mace model and wraps it to also output the `node_labels` and `edge_labels` corresponding to a matrix. \n",
    "\n",
    "Internally, it just initializes a `E3nnGraph2Mat` layer. However it can handle the interaction between `MACE` and `Graph2Mat` in more complex cases like having an extra preprocessing step for edges, which needs some extra inputs from MACE."
   ]
  },
  {
   "cell_type": "code",
   "execution_count": null,
   "id": "28197781-462c-40c8-b360-b6a0e9536f70",
   "metadata": {},
   "outputs": [],
   "source": [
    "from graph2mat.models import MatrixMACE\n",
    "from graph2mat.bindings.e3nn import E3nnEdgeMessageBlock"
   ]
  },
  {
   "cell_type": "code",
   "execution_count": null,
   "id": "e077b999-2b5f-4e6a-bf4c-6f59e0fd989f",
   "metadata": {
    "scrolled": true
   },
   "outputs": [],
   "source": [
    "matrix_mace_model = MatrixMACE(\n",
    "    mace_model,\n",
    "    unique_basis=table,\n",
    "    readout_per_interaction=True,\n",
    "    edge_hidden_irreps=o3.Irreps(\"10x0e + 10x1o + 10x2e\"),\n",
    "    preprocessing_edges=E3nnEdgeMessageBlock,\n",
    "    preprocessing_edges_reuse_nodes=False,\n",
    ")"
   ]
  },
  {
   "cell_type": "markdown",
   "id": "65a64a0e-97dd-4a2b-8f75-1b6322b28bbc",
   "metadata": {},
   "source": [
    "The output of this model is MACE's output plus the `node_labels` and `edge_labels` for the predicted matrix:"
   ]
  },
  {
   "cell_type": "code",
   "execution_count": null,
   "id": "9e6d5df5-cec7-4971-82f9-daaf88904f95",
   "metadata": {},
   "outputs": [],
   "source": [
    "out = matrix_mace_model(data)\n",
    "\n",
    "out"
   ]
  },
  {
   "cell_type": "markdown",
   "id": "900e5630-2063-4ee4-a002-2dd97eb56269",
   "metadata": {},
   "source": [
    "You can of course plot the predicted matrices:"
   ]
  },
  {
   "cell_type": "code",
   "execution_count": null,
   "id": "48c91679-8bbc-4f0d-85ca-d0146f7ed48a",
   "metadata": {},
   "outputs": [],
   "source": [
    "matrices = processor.matrix_from_data(data, predictions=out)\n",
    "\n",
    "for config, matrix in zip(configs, matrices):\n",
    "    plot_basis_matrix(\n",
    "        matrix,\n",
    "        config,\n",
    "        point_lines={\"color\": \"black\"},\n",
    "        basis_lines={\"color\": \"blue\"},\n",
    "        colorscale=\"temps\",\n",
    "        text=\".2f\",\n",
    "        basis_labels=True,\n",
    "    ).show()"
   ]
  },
  {
   "cell_type": "markdown",
   "id": "5309f4cc-2f40-40a7-86b7-428cab404f2b",
   "metadata": {},
   "source": [
    "Summary and next steps\n",
    "----------------------\n",
    "\n",
    "In this notebook we learned **how to interface MACE with Graph2Mat**.\n",
    "\n",
    "The **next steps** could be:\n",
    "\n",
    "- **Train a MACE+Graph2Mat model** following the steps in [this notebook](<./Fitting matrices.ipynb>), replacing the model by the `MACE+Graph2Mat` model."
   ]
  },
  {
   "cell_type": "code",
   "execution_count": null,
   "id": "0b43b953-4ca9-4d82-83f4-c3f7f661ab27",
   "metadata": {},
   "outputs": [],
   "source": []
  }
 ],
 "metadata": {
  "kernelspec": {
   "display_name": "Python 3 (ipykernel)",
   "language": "python",
   "name": "python3"
  },
  "language_info": {
   "codemirror_mode": {
    "name": "ipython",
    "version": 3
   },
   "file_extension": ".py",
   "mimetype": "text/x-python",
   "name": "python",
   "nbconvert_exporter": "python",
   "pygments_lexer": "ipython3",
   "version": "3.9.19"
  }
 },
 "nbformat": 4,
 "nbformat_minor": 5
}
